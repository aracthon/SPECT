{
 "cells": [
  {
   "cell_type": "code",
   "execution_count": 114,
   "metadata": {
    "collapsed": true
   },
   "outputs": [],
   "source": [
    "import os\n",
    "import sys\n",
    "import numpy as np\n",
    "import tensorflow as tf"
   ]
  },
  {
   "cell_type": "code",
   "execution_count": 115,
   "metadata": {
    "collapsed": false
   },
   "outputs": [
    {
     "name": "stdout",
     "output_type": "stream",
     "text": [
      "(187, 22)\n",
      "(187, 1)\n",
      "(80, 22)\n",
      "(80, 1)\n"
     ]
    }
   ],
   "source": [
    "src_path = os.path.abspath(os.path.dirname(sys.argv[0]))\n",
    "data_path = '../data/'\n",
    "\n",
    "training_data = np.loadtxt(data_path + 'SPECT.train.txt', delimiter=',');\n",
    "test_data = np.loadtxt(data_path + 'SPECT.test.txt', delimiter=',');\n",
    "\n",
    "# Format the data\n",
    "# trainX: 80x22, testX:187x22\n",
    "\n",
    "trY = training_data[:,0].reshape(80, 1)\n",
    "trX = training_data[:,1:23]\n",
    "\n",
    "teY = test_data[:,0].reshape(187, 1)\n",
    "teX = test_data[:,1:23]\n",
    "\n",
    "print teX.shape\n",
    "print teY.shape\n",
    "print trX.shape\n",
    "print trY.shape"
   ]
  },
  {
   "cell_type": "code",
   "execution_count": 116,
   "metadata": {
    "collapsed": true
   },
   "outputs": [],
   "source": [
    "def init_weights(shape):\n",
    "    return tf.Variable(tf.random_normal(shape, stddev=0.01))\n",
    "\n",
    "def model(X, w):\n",
    "    return tf.matmul(X, w)\n"
   ]
  },
  {
   "cell_type": "code",
   "execution_count": 139,
   "metadata": {
    "collapsed": false
   },
   "outputs": [
    {
     "name": "stdout",
     "output_type": "stream",
     "text": [
      "Tensor(\"Sum_6:0\", shape=(), dtype=float32)\n"
     ]
    }
   ],
   "source": [
    "X = tf.placeholder(\"float\", [None, 22])\n",
    "Y = tf.placeholder(\"float\", [None, 1])\n",
    "\n",
    "w = init_weights([22, 1])\n",
    "\n",
    "pred = model(X, w)\n",
    "\n",
    "learning_rate = 0.1\n",
    "training_epochs = 1000\n",
    "\n",
    "init = tf.global_variables_initializer()\n",
    "cost = -tf.reduce_sum(Y * tf.log(pred))\n",
    "# tf.reduce_mean(tf.nn.softmax_cross_entropy_with_logits(logits=pred, labels=Y))\n",
    "optimizer = tf.train.GradientDescentOptimizer(learning_rate).minimize(cost)\n",
    "\n",
    "correct_prediction = tf.equal(tf.argmax(pred, 1), tf.argmax(teY, 1))\n",
    "accuracy = tf.reduce_sum(tf.cast(correct_prediction, \"float\"))"
   ]
  },
  {
   "cell_type": "code",
   "execution_count": 140,
   "metadata": {
    "collapsed": false
   },
   "outputs": [
    {
     "name": "stdout",
     "output_type": "stream",
     "text": [
      "nan\n",
      "nan\n",
      "nan\n",
      "nan\n",
      "nan\n",
      "nan\n",
      "nan\n",
      "nan\n",
      "nan\n",
      "nan\n",
      "nan\n",
      "nan\n",
      "nan\n",
      "nan\n",
      "nan\n",
      "nan\n",
      "nan\n",
      "nan\n",
      "nan\n",
      "nan\n",
      "nan\n",
      "nan\n",
      "nan\n",
      "nan\n",
      "nan\n",
      "nan\n",
      "nan\n",
      "nan\n",
      "nan\n",
      "nan\n",
      "nan\n",
      "nan\n",
      "nan\n",
      "nan\n",
      "nan\n",
      "nan\n",
      "nan\n",
      "nan\n",
      "nan\n",
      "nan\n",
      "187.0\n"
     ]
    }
   ],
   "source": [
    "with tf.Session() as sess:\n",
    "    sess.run(init)\n",
    "    \n",
    "    for epoch in xrange(training_epochs):\n",
    "        for start, end in zip(range(0, len(trX), 16), range(17, len(trX)+1, 16)):\n",
    "            sess.run(optimizer, feed_dict={X: trX[start:end], Y: trY[start:end]})\n",
    "            if epoch % 100 == 0:\n",
    "                print sess.run(cost, feed_dict={X: trX[start:end], Y: trY[start:end]})\n",
    "    print(sess.run(accuracy,\n",
    "               feed_dict={\n",
    "                   X: teX,\n",
    "                   Y: teY\n",
    "               }))"
   ]
  },
  {
   "cell_type": "code",
   "execution_count": null,
   "metadata": {
    "collapsed": true
   },
   "outputs": [],
   "source": []
  }
 ],
 "metadata": {
  "kernelspec": {
   "display_name": "Python 2",
   "language": "python",
   "name": "python2"
  },
  "language_info": {
   "codemirror_mode": {
    "name": "ipython",
    "version": 2
   },
   "file_extension": ".py",
   "mimetype": "text/x-python",
   "name": "python",
   "nbconvert_exporter": "python",
   "pygments_lexer": "ipython2",
   "version": "2.7.12"
  }
 },
 "nbformat": 4,
 "nbformat_minor": 2
}
